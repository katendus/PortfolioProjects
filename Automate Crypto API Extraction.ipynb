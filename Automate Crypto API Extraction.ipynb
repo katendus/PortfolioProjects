{
 "cells": [
  {
   "cell_type": "code",
   "execution_count": null,
   "id": "9defa0fb",
   "metadata": {},
   "outputs": [],
   "source": [
    "from requests import Request, Session\n",
    "from requests.exceptions import ConnectionError, Timeout, TooManyRedirects\n",
    "import json\n",
    "\n",
    "url = 'https://pro-api.coinmarketcap.com/v1/cryptocurrency/listings/latest'\n",
    "parameters = {\n",
    "  'start':'1',\n",
    "  'limit':'15',\n",
    "  'convert':'USD'\n",
    "}\n",
    "headers = {\n",
    "  'Accepts': 'application/json',\n",
    "  'X-CMC_PRO_API_KEY': '3f509ebe-f6ea-423a-8765-74d8f37a1a76',\n",
    "}\n",
    "\n",
    "session = Session()\n",
    "session.headers.update(headers)\n",
    "\n",
    "try:\n",
    "  response = session.get(url, params=parameters)\n",
    "  data = json.loads(response.text)\n",
    "  print(data)\n",
    "except (ConnectionError, Timeout, TooManyRedirects) as e:\n",
    "  print(e)"
   ]
  },
  {
   "cell_type": "code",
   "execution_count": 3,
   "id": "beaa3245",
   "metadata": {},
   "outputs": [
    {
     "data": {
      "text/plain": [
       "dict"
      ]
     },
     "execution_count": 3,
     "metadata": {},
     "output_type": "execute_result"
    }
   ],
   "source": [
    "type(data)"
   ]
  },
  {
   "cell_type": "code",
   "execution_count": 13,
   "id": "a46ee6ee",
   "metadata": {},
   "outputs": [],
   "source": [
    "import pandas as pd\n",
    "\n",
    "\n",
    "#This allows you to see all the columns, not just like 15\n",
    "pd.set_option('display.max_columns', None)\n",
    "pd.set_option('display.max_rows', None)"
   ]
  },
  {
   "cell_type": "code",
   "execution_count": null,
   "id": "dffb10b8",
   "metadata": {},
   "outputs": [],
   "source": [
    "#This normalizes the data and makes it all pretty in a dataframe\n",
    "\n",
    "df = pd.json_normalize(data['data'])\n",
    "df['timestamp'] = pd.to_datetime('now')\n",
    "df"
   ]
  },
  {
   "cell_type": "code",
   "execution_count": 15,
   "id": "4ea4941b",
   "metadata": {},
   "outputs": [],
   "source": [
    "def api_runner():\n",
    "    global df\n",
    "    url = 'https://pro-api.coinmarketcap.com/v1/cryptocurrency/listings/latest' \n",
    "    #Original Sandbox Environment: 'https://sandbox-api.coinmarketcap.com/v1/cryptocurrency/listings/latest'\n",
    "    parameters = {\n",
    "      'start':'1',\n",
    "      'limit':'15',\n",
    "      'convert':'USD'\n",
    "    }\n",
    "    headers = {\n",
    "      'Accepts': 'application/json',\n",
    "      'X-CMC_PRO_API_KEY': '3f509ebe-f6ea-423a-8765-74d8f37a1a76',\n",
    "    }\n",
    "\n",
    "    session = Session()\n",
    "    session.headers.update(headers)\n",
    "\n",
    "    try:\n",
    "      response = session.get(url, params=parameters)\n",
    "      data = json.loads(response.text)\n",
    "      #print(data)\n",
    "    except (ConnectionError, Timeout, TooManyRedirects) as e:\n",
    "      print(e)\n",
    "\n",
    "#NOTE:\n",
    "# Go to Anaconda Prompt and insert \"jupyter notebook --NotebookApp.iopub_data_rate_limit=1e10\"\n",
    "# Copy the localhost url at the bottom of results and paste it in the browser and look for your file name and click on it. \n",
    "# The localhost url should look like something like this \" http://localhost:8890/?token=94\"\n",
    "    \n",
    "    # Use this if you just want to keep it in a dataframe\n",
    "    df = pd.json_normalize(data['data'])\n",
    "    df['Timestamp'] = pd.to_datetime('now')\n",
    "    df\n",
    "\n",
    "\n",
    "    # Use this if you want to create a csv and append data to it\n",
    "    #df = pd.json_normalize(data['data'])\n",
    "    #df['timestamp'] = pd.to_datetime('now')\n",
    "    #df\n",
    "\n",
    "    if not os.path.isfile(r'C:\\Users\\skk8\\Documents\\1-KATENDE\\1-1DEVELOPMENT\\BUSINESS INTELLIGENCE\\PYTHON\\PROJECT FILES\\Python Scripts\\API.csv'):\n",
    "        df.to_csv(r'C:\\Users\\skk8\\Documents\\1-KATENDE\\1-1DEVELOPMENT\\BUSINESS INTELLIGENCE\\PYTHON\\PROJECT FILES\\Python Scripts\\API.csv', header='column_names')\n",
    "    else:\n",
    "        df.to_csv(r'C:\\Users\\skk8\\Documents\\1-KATENDE\\1-1DEVELOPMENT\\BUSINESS INTELLIGENCE\\PYTHON\\PROJECT FILES\\Python Scripts\\API.csv', mode='a', header=False)\n",
    "        \n",
    "    #Then to read in the file: df = pd.read_csv(r'C:\\Users\\skk8\\Documents\\1-KATENDE\\1-1DEVELOPMENT\\BUSINESS INTELLIGENCE\\PYTHON\\PROJECT FILES\\Python Scripts\\API.csv')\n",
    "\n",
    "# If that didn't work try using the local host URL as shown in the video"
   ]
  },
  {
   "cell_type": "code",
   "execution_count": null,
   "id": "9110512b",
   "metadata": {},
   "outputs": [],
   "source": [
    "import os \n",
    "from time import time\n",
    "from time import sleep\n",
    "\n",
    "for i in range(333):\n",
    "    api_runner()\n",
    "    print('API Runner completed')\n",
    "    sleep(60) #sleep for 1 minute\n",
    "exit()"
   ]
  },
  {
   "cell_type": "code",
   "execution_count": null,
   "id": "63167124",
   "metadata": {},
   "outputs": [],
   "source": [
    "df"
   ]
  },
  {
   "cell_type": "code",
   "execution_count": null,
   "id": "28c9e78f",
   "metadata": {},
   "outputs": [],
   "source": [
    "df72 = pd.read_csv(r'C:\\Users\\skk8\\Documents\\1-KATENDE\\1-1DEVELOPMENT\\BUSINESS INTELLIGENCE\\PYTHON\\PROJECT FILES\\Python Scripts\\API.csv')\n",
    "df72"
   ]
  },
  {
   "cell_type": "code",
   "execution_count": 19,
   "id": "f4d6dc94",
   "metadata": {},
   "outputs": [],
   "source": [
    "# One thing I noticed was the scientific notation. I like it, but I want to be able to see the numbers in this case\n",
    "\n",
    "pd.set_option('display.float_format', lambda x: '%.5f' % x)"
   ]
  },
  {
   "cell_type": "code",
   "execution_count": null,
   "id": "c61fcd66",
   "metadata": {},
   "outputs": [],
   "source": [
    "# Now let's look at the coin trends over time\n",
    "\n",
    "df3 = df.groupby('name', sort=False)[['quote.USD.percent_change_1h','quote.USD.percent_change_24h','quote.USD.percent_change_7d','quote.USD.percent_change_30d','quote.USD.percent_change_60d','quote.USD.percent_change_90d']].mean()\n",
    "df3"
   ]
  },
  {
   "cell_type": "code",
   "execution_count": null,
   "id": "4e2c5254",
   "metadata": {},
   "outputs": [],
   "source": [
    "df4 = df3.stack()\n",
    "df4"
   ]
  },
  {
   "cell_type": "code",
   "execution_count": 23,
   "id": "53e77b76",
   "metadata": {},
   "outputs": [
    {
     "data": {
      "text/plain": [
       "pandas.core.frame.DataFrame"
      ]
     },
     "execution_count": 23,
     "metadata": {},
     "output_type": "execute_result"
    }
   ],
   "source": [
    "type(df3)"
   ]
  },
  {
   "cell_type": "code",
   "execution_count": 24,
   "id": "57e6c3bd",
   "metadata": {},
   "outputs": [
    {
     "data": {
      "text/plain": [
       "pandas.core.series.Series"
      ]
     },
     "execution_count": 24,
     "metadata": {},
     "output_type": "execute_result"
    }
   ],
   "source": [
    "type(df4)"
   ]
  },
  {
   "cell_type": "code",
   "execution_count": null,
   "id": "8666df14",
   "metadata": {},
   "outputs": [],
   "source": [
    "df5 = df4.to_frame(name='values')\n",
    "df5"
   ]
  },
  {
   "cell_type": "code",
   "execution_count": 26,
   "id": "521b168e",
   "metadata": {},
   "outputs": [
    {
     "data": {
      "text/plain": [
       "values    90\n",
       "dtype: int64"
      ]
     },
     "execution_count": 26,
     "metadata": {},
     "output_type": "execute_result"
    }
   ],
   "source": [
    "df5.count()"
   ]
  },
  {
   "cell_type": "code",
   "execution_count": null,
   "id": "fd44a71a",
   "metadata": {},
   "outputs": [],
   "source": [
    "#Because of how it's structured above we need to set an index. I don't want to pass a column as an index for this dataframe\n",
    "#So I'm going to create a range and pass that as the dataframe. You can make this more dynamic, but I'm just going to hard code it\n",
    "\n",
    "\n",
    "index = pd.Index(range(90))\n",
    "\n",
    "# Set the above DataFrame index object as the index\n",
    "# using set_index() function\n",
    "df6 = df5.reset_index()\n",
    "df6\n",
    "\n",
    "# If it only has the index and values try doing reset_index like \"df5.reset_index()\""
   ]
  },
  {
   "cell_type": "code",
   "execution_count": null,
   "id": "d5a1b81f",
   "metadata": {},
   "outputs": [],
   "source": [
    "# Change the column name\n",
    "\n",
    "df7 = df6.rename(columns={'level_1': 'percent_change'})\n",
    "df7"
   ]
  },
  {
   "cell_type": "code",
   "execution_count": null,
   "id": "85b8c465",
   "metadata": {},
   "outputs": [],
   "source": [
    "df7['percent_change'] = df7['percent_change'].replace(['quote.USD.percent_change_1h','quote.USD.percent_change_24h','quote.USD.percent_change_7d','quote.USD.percent_change_30d','quote.USD.percent_change_60d','quote.USD.percent_change_90d'],['1h','24h','7d','30d','60d','90d'])\n",
    "df7"
   ]
  },
  {
   "cell_type": "code",
   "execution_count": 33,
   "id": "5d9a5612",
   "metadata": {},
   "outputs": [],
   "source": [
    "import seaborn as sns\n",
    "import matplotlib.pyplot as plt"
   ]
  },
  {
   "cell_type": "code",
   "execution_count": 39,
   "id": "11b51b7a",
   "metadata": {},
   "outputs": [
    {
     "data": {
      "text/plain": [
       "<seaborn.axisgrid.FacetGrid at 0x25d294fe0d0>"
      ]
     },
     "execution_count": 39,
     "metadata": {},
     "output_type": "execute_result"
    },
    {
     "data": {
      "image/png": "[encoded data removed]",
      "text/plain": [
       "<Figure size 460.75x360 with 1 Axes>"
      ]
     },
     "metadata": {
      "needs_background": "light"
     },
     "output_type": "display_data"
    }
   ],
   "source": [
    "sns.catplot(x='percent_change', y='values', hue='name', data=df7, kind='point')"
   ]
  },
  {
   "cell_type": "code",
   "execution_count": null,
   "id": "0a95b13f",
   "metadata": {},
   "outputs": [],
   "source": [
    "# Now to do something much simpler\n",
    "# we are going to create a dataframe with the columns we want\n",
    "\n",
    "df10 = df[['name','quote.USD.price','timestamp']]\n",
    "df10 = df10.query(\"name == 'Bitcoin'\")\n",
    "df10"
   ]
  },
  {
   "cell_type": "code",
   "execution_count": null,
   "id": "4280b149",
   "metadata": {},
   "outputs": [],
   "source": [
    "sns.set_theme(style=\"darkgrid\")\n",
    "\n",
    "sns.lineplot(x='timestamp', y='quote.USD.price', data = df10)"
   ]
  }
 ],
 "metadata": {
  "kernelspec": {
   "display_name": "Python 3 (ipykernel)",
   "language": "python",
   "name": "python3"
  },
  "language_info": {
   "codemirror_mode": {
    "name": "ipython",
    "version": 3
   },
   "file_extension": ".py",
   "mimetype": "text/x-python",
   "name": "python",
   "nbconvert_exporter": "python",
   "pygments_lexer": "ipython3",
   "version": "3.9.12"
  }
 },
 "nbformat": 4,
 "nbformat_minor": 5
}
